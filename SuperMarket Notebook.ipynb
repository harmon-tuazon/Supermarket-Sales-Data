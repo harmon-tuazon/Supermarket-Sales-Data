{
 "cells": [
  {
   "cell_type": "markdown",
   "metadata": {},
   "source": [
    "# Supermarket Sales Data Basic ETL and Pipeline Creation\n",
    "##### by Harmon Tuazon\n",
    "\n",
    "Tool/Language Stack:\n",
    "1. Python\n",
    "2. SQL (PostgreSQL)\n",
    "3. PowerBI \n",
    "\n",
    "The following attributes/columns needed cleaning due to formatting issues:\n",
    "\n",
    "1. Invoice ID\n",
    "2. Tax 5%\n",
    "3. Total\n",
    "4. Date\n",
    "5. Cost of Goods Sold (COGs)"
   ]
  },
  {
   "cell_type": "code",
   "execution_count": 1,
   "metadata": {},
   "outputs": [],
   "source": [
    "#Importing the necessary packages for file manipulation and data cleaning\n",
    "import pandas as pd\n"
   ]
  },
  {
   "cell_type": "markdown",
   "metadata": {},
   "source": [
    "First we will open the file in the CSV and preview how the dataset looks like\n"
   ]
  },
  {
   "cell_type": "code",
   "execution_count": null,
   "metadata": {},
   "outputs": [],
   "source": [
    "#Declaring the file path of the CSV\n",
    "input_folder_path = r\"C:\\Users\\harmo\\OneDrive\\Desktop\\SuperMarket Data Basic ETL Project\\supermarket_sales - Sheet1.csv\"\n",
    "\n",
    "#"
   ]
  }
 ],
 "metadata": {
  "kernelspec": {
   "display_name": "Python 3",
   "language": "python",
   "name": "python3"
  },
  "language_info": {
   "codemirror_mode": {
    "name": "ipython",
    "version": 3
   },
   "file_extension": ".py",
   "mimetype": "text/x-python",
   "name": "python",
   "nbconvert_exporter": "python",
   "pygments_lexer": "ipython3",
   "version": "3.12.6"
  }
 },
 "nbformat": 4,
 "nbformat_minor": 2
}
